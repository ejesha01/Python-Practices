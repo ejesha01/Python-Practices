{
  "nbformat": 4,
  "nbformat_minor": 0,
  "metadata": {
    "colab": {
      "provenance": [],
      "authorship_tag": "ABX9TyOeikYZ5oiS8W5NhIs5CqW5",
      "include_colab_link": true
    },
    "kernelspec": {
      "name": "python3",
      "display_name": "Python 3"
    },
    "language_info": {
      "name": "python"
    }
  },
  "cells": [
    {
      "cell_type": "markdown",
      "metadata": {
        "id": "view-in-github",
        "colab_type": "text"
      },
      "source": [
        "<a href=\"https://colab.research.google.com/github/ejesha01/Python-Practices/blob/main/py2.ipynb\" target=\"_parent\"><img src=\"https://colab.research.google.com/assets/colab-badge.svg\" alt=\"Open In Colab\"/></a>"
      ]
    },
    {
      "cell_type": "code",
      "execution_count": 12,
      "metadata": {
        "colab": {
          "base_uri": "https://localhost:8080/"
        },
        "id": "eZxwpZlExLnu",
        "outputId": "027f3373-7cce-4897-e4b9-48ad4e856383"
      },
      "outputs": [
        {
          "output_type": "stream",
          "name": "stdout",
          "text": [
            "will you help\n"
          ]
        }
      ],
      "source": [
        "#Global and Local Variable\n",
        "x= \"help\"\n",
        "def myfunc():\n",
        "  print(\"will you \"+x)\n",
        "myfunc()"
      ]
    },
    {
      "cell_type": "code",
      "source": [
        "x= \"validation\"\n",
        "def func():          #function name can be anything\n",
        "  print(\"it has lost its \"+x)\n",
        "func()"
      ],
      "metadata": {
        "colab": {
          "base_uri": "https://localhost:8080/"
        },
        "id": "1kDogUdPy-wF",
        "outputId": "5ec45ee9-050e-4b34-96bf-42067a82b11b"
      },
      "execution_count": 14,
      "outputs": [
        {
          "output_type": "stream",
          "name": "stdout",
          "text": [
            "it has lost its validation\n"
          ]
        }
      ]
    },
    {
      "cell_type": "code",
      "source": [
        "a= \"Cricket\"                      #Global Variable\n",
        "def func():\n",
        "  a=\"Football\"                    #Local variable\n",
        "  print(\"She doen't likes \"+a)\n",
        "func()\n",
        "print(\"She likes \"+a)"
      ],
      "metadata": {
        "colab": {
          "base_uri": "https://localhost:8080/"
        },
        "id": "9xf8Jz1Qzibl",
        "outputId": "523e67a4-d759-4087-84e1-72833764418f"
      },
      "execution_count": 17,
      "outputs": [
        {
          "output_type": "stream",
          "name": "stdout",
          "text": [
            "She doen't likes Football\n",
            "She likes Cricket\n"
          ]
        }
      ]
    },
    {
      "cell_type": "code",
      "source": [
        "def func():\n",
        "  global m\n",
        "  m=\"awsome\"\n",
        "func()\n",
        "print(\"She is \"+m)"
      ],
      "metadata": {
        "colab": {
          "base_uri": "https://localhost:8080/"
        },
        "id": "-_hnkOQB0lPW",
        "outputId": "a56544e8-ab2d-41e0-b125-37a10e86172f"
      },
      "execution_count": 21,
      "outputs": [
        {
          "output_type": "stream",
          "name": "stdout",
          "text": [
            "She is awsome\n"
          ]
        }
      ]
    },
    {
      "cell_type": "code",
      "source": [],
      "metadata": {
        "id": "2uFxFn111l32"
      },
      "execution_count": null,
      "outputs": []
    }
  ]
}